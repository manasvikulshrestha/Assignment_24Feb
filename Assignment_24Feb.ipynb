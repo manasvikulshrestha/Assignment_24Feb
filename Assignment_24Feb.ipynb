{
 "cells": [
  {
   "cell_type": "markdown",
   "id": "6f64315b-1939-47af-8113-1c9465a38226",
   "metadata": {},
   "source": [
    "Q1. List any five functions of the pandas library with execution."
   ]
  },
  {
   "cell_type": "code",
   "execution_count": 1,
   "id": "5308ec9d-7aeb-4dd0-bbba-7efda970692a",
   "metadata": {},
   "outputs": [
    {
     "name": "stdout",
     "output_type": "stream",
     "text": [
      "    Name  Age      City  Salary\n",
      "0   John   25  New York   50000\n",
      "1   Anna   30     Paris   60000\n",
      "2  Peter   35    London   70000\n",
      "3  Linda   40     Tokyo   80000\n",
      "4   Jack   45    Sydney   90000\n"
     ]
    }
   ],
   "source": [
    "import pandas as pd\n",
    "\n",
    "data = {\n",
    "    'Name': ['John', 'Anna', 'Peter', 'Linda', 'Jack'],\n",
    "    'Age': [25, 30, 35, 40, 45],\n",
    "    'City': ['New York', 'Paris', 'London', 'Tokyo', 'Sydney'],\n",
    "    'Salary': [50000, 60000, 70000, 80000, 90000]\n",
    "}\n",
    "\n",
    "df = pd.DataFrame(data)\n",
    "\n",
    "print(df)"
   ]
  },
  {
   "cell_type": "code",
   "execution_count": 2,
   "id": "7528e252-df7d-4a49-90c0-9396abfd4f8a",
   "metadata": {},
   "outputs": [
    {
     "name": "stdout",
     "output_type": "stream",
     "text": [
      "    Name  Age      City  Salary\n",
      "0   John   25  New York   50000\n",
      "1   Anna   30     Paris   60000\n",
      "2  Peter   35    London   70000\n",
      "3  Linda   40     Tokyo   80000\n",
      "4   Jack   45    Sydney   90000\n"
     ]
    }
   ],
   "source": [
    "#1. head(): Display the first n rows of the DataFrame. By default, it shows the first 5 rows.\n",
    "print(df.head())"
   ]
  },
  {
   "cell_type": "code",
   "execution_count": 3,
   "id": "a547e35b-b7ff-4ed2-aaa1-93cbb42500d6",
   "metadata": {},
   "outputs": [
    {
     "name": "stdout",
     "output_type": "stream",
     "text": [
      "<class 'pandas.core.frame.DataFrame'>\n",
      "RangeIndex: 5 entries, 0 to 4\n",
      "Data columns (total 4 columns):\n",
      " #   Column  Non-Null Count  Dtype \n",
      "---  ------  --------------  ----- \n",
      " 0   Name    5 non-null      object\n",
      " 1   Age     5 non-null      int64 \n",
      " 2   City    5 non-null      object\n",
      " 3   Salary  5 non-null      int64 \n",
      "dtypes: int64(2), object(2)\n",
      "memory usage: 288.0+ bytes\n",
      "None\n"
     ]
    }
   ],
   "source": [
    "#2. info(): Provides a concise summary of the DataFrame including the data types, non-null values, and memory usage.\n",
    "print(df.info())"
   ]
  },
  {
   "cell_type": "code",
   "execution_count": 7,
   "id": "5d7e8aec-e2ba-4cf5-958d-fad6ed04d4de",
   "metadata": {},
   "outputs": [
    {
     "name": "stdout",
     "output_type": "stream",
     "text": [
      "             Age        Salary\n",
      "count   5.000000      5.000000\n",
      "mean   35.000000  70000.000000\n",
      "std     7.905694  15811.388301\n",
      "min    25.000000  50000.000000\n",
      "25%    30.000000  60000.000000\n",
      "50%    35.000000  70000.000000\n",
      "75%    40.000000  80000.000000\n",
      "max    45.000000  90000.000000\n"
     ]
    }
   ],
   "source": [
    "#3. describe(): Generates descriptive statistics that summarize the central tendency, dispersion, and shape of the numerical columns.\n",
    "print(df.describe())"
   ]
  },
  {
   "cell_type": "code",
   "execution_count": 5,
   "id": "5e0e01eb-a183-4b52-8b55-18419a271ee6",
   "metadata": {},
   "outputs": [
    {
     "name": "stdout",
     "output_type": "stream",
     "text": [
      "Age          35.0\n",
      "Salary    70000.0\n",
      "dtype: float64\n"
     ]
    },
    {
     "name": "stderr",
     "output_type": "stream",
     "text": [
      "/tmp/ipykernel_77/1147436391.py:2: FutureWarning: The default value of numeric_only in DataFrame.mean is deprecated. In a future version, it will default to False. In addition, specifying 'numeric_only=None' is deprecated. Select only valid columns or specify the value of numeric_only to silence this warning.\n",
      "  print(df.mean())\n"
     ]
    }
   ],
   "source": [
    "#4. mean(): Calculates the mean of numerical columns.\n",
    "print(df.mean())"
   ]
  },
  {
   "cell_type": "code",
   "execution_count": 6,
   "id": "f23960f0-eea4-4675-b928-616ba009095e",
   "metadata": {},
   "outputs": [
    {
     "name": "stdout",
     "output_type": "stream",
     "text": [
      "    Name  Age      City  Salary\n",
      "4   Jack   45    Sydney   90000\n",
      "3  Linda   40     Tokyo   80000\n",
      "2  Peter   35    London   70000\n",
      "1   Anna   30     Paris   60000\n",
      "0   John   25  New York   50000\n"
     ]
    }
   ],
   "source": [
    "#5. sort_values(): Sorts the DataFrame by the values along either axis. You can specify the column(s) to sort by.\n",
    "sorted_df = df.sort_values(by='Age', ascending=False)\n",
    "print(sorted_df)"
   ]
  },
  {
   "cell_type": "markdown",
   "id": "1f40048b-327a-4737-b2b7-10cdd711522d",
   "metadata": {},
   "source": [
    "Q2. Given a Pandas DataFrame df with columns 'A', 'B', and 'C', write a Python function to re-index the\n",
    "DataFrame with a new index that starts from 1 and increments by 2 for each row."
   ]
  },
  {
   "cell_type": "code",
   "execution_count": 8,
   "id": "40d0f36f-3b60-4787-ab29-d659e1af8d98",
   "metadata": {},
   "outputs": [
    {
     "name": "stdout",
     "output_type": "stream",
     "text": [
      "    A   B   C\n",
      "1  10  40  70\n",
      "3  20  50  80\n",
      "5  30  60  90\n"
     ]
    }
   ],
   "source": [
    "#A2.\n",
    "\n",
    "# Creating a small DataFrame\n",
    "data = {\n",
    "    'A': [10, 20, 30],\n",
    "    'B': [40, 50, 60],\n",
    "    'C': [70, 80, 90]\n",
    "}\n",
    "df = pd.DataFrame(data)\n",
    "\n",
    "# Function to re-index the DataFrame\n",
    "def reindex_dataframe(df):\n",
    "    # Resetting index to default integer index\n",
    "    df.reset_index(drop=True, inplace=True)\n",
    "    \n",
    "    # Modifying the index to start from 1 and increment by 2\n",
    "    new_index = pd.Index(range(1, len(df) * 2, 2))\n",
    "    \n",
    "    # Reassigning the new index to the DataFrame\n",
    "    df.index = new_index\n",
    "    \n",
    "    return df\n",
    "\n",
    "# Re-indexing the DataFrame\n",
    "df = reindex_dataframe(df)\n",
    "\n",
    "# Displaying the DataFrame\n",
    "print(df)"
   ]
  },
  {
   "cell_type": "markdown",
   "id": "bb85440c-e651-4c8c-8a32-dfab4b8157ae",
   "metadata": {},
   "source": [
    "Q3. You have a Pandas DataFrame df with a column named 'Values'. Write a Python function that\n",
    "iterates over the DataFrame and calculates the sum of the first three values in the 'Values' column. The\n",
    "function should print the sum to the console.\n",
    "For example, if the 'Values' column of df contains the values [10, 20, 30, 40, 50], your function should\n",
    "calculate and print the sum of the first three values, which is 60."
   ]
  },
  {
   "cell_type": "code",
   "execution_count": 9,
   "id": "e19a4b53-a860-4a36-8f94-1716a8c3fecb",
   "metadata": {},
   "outputs": [
    {
     "name": "stdout",
     "output_type": "stream",
     "text": [
      "Sum of the first three values: 60\n"
     ]
    }
   ],
   "source": [
    "# Creating a small DataFrame with a column named 'Values'\n",
    "data = {\n",
    "    'Values': [10, 20, 30, 40, 50]\n",
    "}\n",
    "df = pd.DataFrame(data)\n",
    "\n",
    "# Python function to calculate the sum of the first three values in the 'Values' column\n",
    "def sum_first_three_values(df):\n",
    "    # Extracting the first three values from the 'Values' column\n",
    "    first_three_values = df['Values'][:3]\n",
    "    \n",
    "    # Calculating the sum of the first three values\n",
    "    sum_values = first_three_values.sum()\n",
    "    \n",
    "    # Printing the sum to the console\n",
    "    print(\"Sum of the first three values:\", sum_values)\n",
    "\n",
    "# Calling the function with the DataFrame\n",
    "sum_first_three_values(df)"
   ]
  },
  {
   "cell_type": "markdown",
   "id": "f7a8bd8c-4171-4086-913c-58180b60ab1d",
   "metadata": {},
   "source": [
    "Q4. Given a Pandas DataFrame df with a column 'Text', write a Python function to create a new column\n",
    "'Word_Count' that contains the number of words in each row of the 'Text' column."
   ]
  },
  {
   "cell_type": "code",
   "execution_count": 10,
   "id": "4157fc9f-6ad9-4271-ab46-a806a80ecfa6",
   "metadata": {},
   "outputs": [
    {
     "name": "stdout",
     "output_type": "stream",
     "text": [
      "                        Text  Word_Count\n",
      "0      This is a sample text           5\n",
      "1                Hello world           2\n",
      "2  Python programming is fun           4\n"
     ]
    }
   ],
   "source": [
    "# Creating a Pandas DataFrame with a column 'Text'\n",
    "data = {\n",
    "    'Text': ['This is a sample text', 'Hello world', 'Python programming is fun']\n",
    "}\n",
    "df = pd.DataFrame(data)\n",
    "\n",
    "# Python function to create a new column 'Word_Count'\n",
    "def count_words(text):\n",
    "    # Splitting the text into words and counting the number of words\n",
    "    word_count = len(text.split())\n",
    "    return word_count\n",
    "\n",
    "# Applying the count_words function to each row of the 'Text' column\n",
    "df['Word_Count'] = df['Text'].apply(lambda x: count_words(x))\n",
    "\n",
    "# Displaying the DataFrame\n",
    "print(df)"
   ]
  },
  {
   "cell_type": "markdown",
   "id": "ce62b183-19e7-45f6-8162-5baf680f164e",
   "metadata": {},
   "source": [
    "Q5. How are DataFrame.size() and DataFrame.shape() different?\n",
    "A5. DataFrame.size and DataFrame.shape are both attributes of Pandas DataFrame, but they serve different purposes:\n",
    "\n",
    "- DataFrame.size:\n",
    "  - DataFrame.size returns the total number of elements in the DataFrame, i.e., the product of the number of rows and the\n",
    "    number of columns.\n",
    "  - It calculates the size of the DataFrame as if it were a one-dimensional array, ignoring the structure (rows and columns)\n",
    "    of the DataFrame.\n",
    "  - The size includes all elements, regardless of their content (data or NaN values).\n",
    "    \n",
    "- DataFrame.shape:\n",
    "  - DataFrame.shape returns a tuple representing the dimensions of the DataFrame, where the first element is the number of\n",
    "    rows and the second element is the number of columns.\n",
    "  - It gives you the structure of the DataFrame, providing information about how many rows and columns it contains.\n",
    "  - This attribute is commonly used to understand the shape of the DataFrame and to perform operations accordingly."
   ]
  },
  {
   "cell_type": "code",
   "execution_count": 11,
   "id": "e45f637d-96c0-47e9-bceb-a1e59e79165d",
   "metadata": {},
   "outputs": [
    {
     "name": "stdout",
     "output_type": "stream",
     "text": [
      "DataFrame size: 9\n",
      "DataFrame shape: (3, 3)\n"
     ]
    }
   ],
   "source": [
    "# Creating a DataFrame\n",
    "data = {\n",
    "    'A': [1, 2, 3],\n",
    "    'B': [4, 5, 6],\n",
    "    'C': [7, 8, 9]\n",
    "}\n",
    "df = pd.DataFrame(data)\n",
    "\n",
    "# Output the size and shape\n",
    "print(\"DataFrame size:\", df.size)\n",
    "print(\"DataFrame shape:\", df.shape)"
   ]
  },
  {
   "cell_type": "markdown",
   "id": "c8f9fb08-a3f5-412d-8a23-dd305600ece5",
   "metadata": {},
   "source": [
    "Q6. Which function of pandas do we use to read an excel file?\n",
    "A6. We use the pd.read_excel() function to read an excel file."
   ]
  },
  {
   "cell_type": "markdown",
   "id": "c6086834-2651-449e-ac1e-cf9124d740d5",
   "metadata": {},
   "source": [
    "Q7. You have a Pandas DataFrame df that contains a column named 'Email' that contains email\n",
    "addresses in the format 'username@domain.com'. Write a Python function that creates a new column\n",
    "'Username' in df that contains only the username part of each email address.\n",
    "The username is the part of the email address that appears before the '@' symbol. For example, if the\n",
    "email address is 'john.doe@example.com', the 'Username' column should contain 'john.doe'. Your\n",
    "function should extract the username from each email address and store it in the new 'Username'\n",
    "column."
   ]
  },
  {
   "cell_type": "code",
   "execution_count": 13,
   "id": "529aa9fe-d6e7-4058-bd09-bb17ff7837e6",
   "metadata": {},
   "outputs": [
    {
     "name": "stdout",
     "output_type": "stream",
     "text": [
      "                     Email     Username\n",
      "0     john.doe@example.com     john.doe\n",
      "1   jane.smith@example.com   jane.smith\n",
      "2  bob.johnson@example.com  bob.johnson\n"
     ]
    }
   ],
   "source": [
    "# Creating a Pandas DataFrame with a column 'Email'\n",
    "data = {\n",
    "    'Email': ['john.doe@example.com', 'jane.smith@example.com', 'bob.johnson@example.com']\n",
    "}\n",
    "df = pd.DataFrame(data)\n",
    "\n",
    "# Python function to extract the username from each email address\n",
    "def extract_username(email):\n",
    "    # Splitting the email address at the '@' symbol and taking the first part\n",
    "    username = email.split('@')[0]\n",
    "    return username\n",
    "\n",
    "# Applying the extract_username function to each row of the 'Email' column\n",
    "df['Username'] = df['Email'].apply(lambda x: extract_username(x))\n",
    "\n",
    "# Displaying the DataFrame\n",
    "print(df)"
   ]
  },
  {
   "cell_type": "markdown",
   "id": "aa7e95ce-a1eb-4a8f-a6e8-9111ff1e9df3",
   "metadata": {},
   "source": [
    "Q8. You have a Pandas DataFrame df with columns 'A', 'B', and 'C'. Write a Python function that selects\n",
    "all rows where the value in column 'A' is greater than 5 and the value in column 'B' is less than 10. The\n",
    "function should return a new DataFrame that contains only the selected rows.\n",
    "For example, if df contains the following values:\n",
    "  A B C\n",
    "0 3 5 1\n",
    "1 8 2 7\n",
    "2 6 9 4\n",
    "3 2 3 5\n",
    "4 9 1 2\n",
    "\n",
    "Your function should select the following rows: \n",
    "  A B C\n",
    "1 8 2 7\n",
    "4 9 1 2\n",
    "The function should return a new DataFrame that contains only the selected rows."
   ]
  },
  {
   "cell_type": "code",
   "execution_count": 14,
   "id": "3ca815e0-46b9-4712-81e5-af68f06ba7c3",
   "metadata": {},
   "outputs": [
    {
     "name": "stdout",
     "output_type": "stream",
     "text": [
      "   A  B  C\n",
      "1  8  2  7\n",
      "2  6  9  4\n",
      "4  9  1  2\n"
     ]
    }
   ],
   "source": [
    "data = {\n",
    "    'A': [3,8,6,2,9],\n",
    "    'B': [5,2,9,3,1],\n",
    "    'C': [1,7,4,5,2]\n",
    "}\n",
    "df = pd.DataFrame(data)\n",
    "\n",
    "df1 = df[ (df['A']>5) & (df['B']<10) ]\n",
    "\n",
    "print(df1)"
   ]
  },
  {
   "cell_type": "markdown",
   "id": "e6ccc192-a0b2-46a2-9937-3dd3834925c8",
   "metadata": {},
   "source": [
    "Q9. Given a Pandas DataFrame df with a column 'Values', write a Python function to calculate the mean,\n",
    "median, and standard deviation of the values in the 'Values' column."
   ]
  },
  {
   "cell_type": "code",
   "execution_count": 15,
   "id": "c40469f4-f0f7-4965-aaac-f13a0408c202",
   "metadata": {},
   "outputs": [
    {
     "name": "stdout",
     "output_type": "stream",
     "text": [
      "Mean: Values    30.0\n",
      "dtype: float64\n",
      "Median: Values    30.0\n",
      "dtype: float64\n",
      "Standard Deviation: Values    15.811388\n",
      "dtype: float64\n"
     ]
    }
   ],
   "source": [
    "data = {\n",
    "    'Values': [10, 20, 30, 40, 50]\n",
    "}\n",
    "df = pd.DataFrame(data)\n",
    "\n",
    "print(\"Mean:\",df.mean())\n",
    "print(\"Median:\",df.median())\n",
    "print(\"Standard Deviation:\",df.std())"
   ]
  },
  {
   "cell_type": "markdown",
   "id": "1a7b94f2-0814-4acb-8cb4-b7c5b14884f9",
   "metadata": {},
   "source": [
    "Q10. Given a Pandas DataFrame df with a column 'Sales' and a column 'Date', write a Python function to\n",
    "create a new column 'MovingAverage' that contains the moving average of the sales for the past 7 days\n",
    "for each row in the DataFrame. The moving average should be calculated using a window of size 7 and\n",
    "should include the current day."
   ]
  },
  {
   "cell_type": "code",
   "execution_count": 16,
   "id": "ca67707e-0421-4660-8652-6cfa17794bd2",
   "metadata": {},
   "outputs": [
    {
     "name": "stdout",
     "output_type": "stream",
     "text": [
      "   Sales       Date  MovingAverage\n",
      "0    100 2024-01-01          100.0\n",
      "1    150 2024-01-02          125.0\n",
      "2    200 2024-01-03          150.0\n",
      "3    250 2024-01-04          175.0\n",
      "4    300 2024-01-05          200.0\n",
      "5    350 2024-01-06          225.0\n",
      "6    400 2024-01-07          250.0\n",
      "7    450 2024-01-08          300.0\n",
      "8    500 2024-01-09          350.0\n",
      "9    550 2024-01-10          400.0\n"
     ]
    }
   ],
   "source": [
    "# Creating a Pandas DataFrame with columns 'Sales' and 'Date'\n",
    "data = {\n",
    "    'Sales': [100, 150, 200, 250, 300, 350, 400, 450, 500, 550],\n",
    "    'Date': pd.date_range(start='2024-01-01', periods=10)\n",
    "}\n",
    "df = pd.DataFrame(data)\n",
    "\n",
    "# Python function to calculate the moving average of sales for the past 7 days\n",
    "def calculate_moving_average(df):\n",
    "    # Calculating the moving average using a window of size 7\n",
    "    df['MovingAverage'] = df['Sales'].rolling(window=7, min_periods=1).mean()\n",
    "    return df\n",
    "\n",
    "# Applying the calculate_moving_average function to the DataFrame\n",
    "df = calculate_moving_average(df)\n",
    "\n",
    "# Displaying the DataFrame\n",
    "print(df)"
   ]
  },
  {
   "cell_type": "markdown",
   "id": "62e73f96-3ce0-44c5-97b8-41409f92ba65",
   "metadata": {},
   "source": [
    "Q11. You have a Pandas DataFrame df with a column 'Date'. Write a Python function that creates a new\n",
    "column 'Weekday' in the DataFrame. The 'Weekday' column should contain the weekday name (e.g.\n",
    "Monday, Tuesday) corresponding to each date in the 'Date' column.\n",
    "For example, if df contains the following values:\n",
    "Date\n",
    "0 2023-01-01\n",
    "1 2023-01-02\n",
    "2 2023-01-03\n",
    "3 2023-01-04\n",
    "4 2023-01-05\n",
    "Your function should create the following DataFrame:\n",
    "\n",
    "Date Weekday\n",
    "0 2023-01-01 Sunday\n",
    "1 2023-01-02 Monday\n",
    "2 2023-01-03 Tuesday\n",
    "3 2023-01-04 Wednesday\n",
    "4 2023-01-05 Thursday\n",
    "The function should return the modified DataFrame."
   ]
  },
  {
   "cell_type": "code",
   "execution_count": 18,
   "id": "e6e1f62b-76cc-4c79-b43d-821f1b350a00",
   "metadata": {},
   "outputs": [
    {
     "name": "stdout",
     "output_type": "stream",
     "text": [
      "         Date    Weekday\n",
      "0  2023-01-01     Sunday\n",
      "1  2023-01-02     Monday\n",
      "2  2023-01-03    Tuesday\n",
      "3  2023-01-04  Wednesday\n",
      "4  2023-01-05   Thursday\n"
     ]
    }
   ],
   "source": [
    "data = {\n",
    "    'Date' : ['2023-01-01' ,\n",
    "              '2023-01-02',\n",
    "              '2023-01-03',\n",
    "              '2023-01-04',\n",
    "              '2023-01-05'\n",
    "             ]\n",
    "}\n",
    "\n",
    "df = pd.DataFrame(data)\n",
    "\n",
    "df['Weekday'] = ['Sunday','Monday','Tuesday','Wednesday','Thursday']\n",
    "\n",
    "print(df)"
   ]
  },
  {
   "cell_type": "markdown",
   "id": "3a693317-8cf7-43dc-9c75-a46b3b2d348d",
   "metadata": {},
   "source": [
    "Q12. Given a Pandas DataFrame df with a column 'Date' that contains timestamps, write a Python\n",
    "function to select all rows where the date is between '2023-01-01' and '2023-01-31'."
   ]
  },
  {
   "cell_type": "code",
   "execution_count": 19,
   "id": "de3c4595-8602-44ab-97c6-f9cb87b3c6bf",
   "metadata": {},
   "outputs": [
    {
     "name": "stdout",
     "output_type": "stream",
     "text": [
      "         Date\n",
      "0  2023-01-01\n",
      "1  2023-01-02\n",
      "2  2023-01-03\n",
      "3  2023-01-04\n",
      "4  2023-01-05\n",
      "5  2023-01-06\n",
      "6  2023-01-07\n",
      "7  2023-01-08\n",
      "8  2023-01-09\n",
      "9  2023-01-10\n",
      "10 2023-01-11\n",
      "11 2023-01-12\n",
      "12 2023-01-13\n",
      "13 2023-01-14\n",
      "14 2023-01-15\n",
      "15 2023-01-16\n",
      "16 2023-01-17\n",
      "17 2023-01-18\n",
      "18 2023-01-19\n",
      "19 2023-01-20\n",
      "20 2023-01-21\n",
      "21 2023-01-22\n",
      "22 2023-01-23\n",
      "23 2023-01-24\n",
      "24 2023-01-25\n",
      "25 2023-01-26\n",
      "26 2023-01-27\n",
      "27 2023-01-28\n",
      "28 2023-01-29\n",
      "29 2023-01-30\n",
      "30 2023-01-31\n"
     ]
    }
   ],
   "source": [
    "# Creating a Pandas DataFrame with a column 'Date' containing timestamps\n",
    "data = {\n",
    "    'Date': pd.date_range(start='2023-01-01', end='2023-02-28', freq='D')\n",
    "}\n",
    "df = pd.DataFrame(data)\n",
    "\n",
    "# Python function to select rows where the date is between '2023-01-01' and '2023-01-31'\n",
    "def select_rows_by_date(df):\n",
    "    # Converting 'Date' column to datetime dtype if not already\n",
    "    df['Date'] = pd.to_datetime(df['Date'])\n",
    "    \n",
    "    # Selecting rows where the date is between '2023-01-01' and '2023-01-31'\n",
    "    selected_rows = df[(df['Date'] >= '2023-01-01') & (df['Date'] <= '2023-01-31')]\n",
    "    return selected_rows\n",
    "\n",
    "# Applying the select_rows_by_date function to the DataFrame\n",
    "selected_df = select_rows_by_date(df)\n",
    "\n",
    "# Displaying the selected rows\n",
    "print(selected_df)"
   ]
  },
  {
   "cell_type": "markdown",
   "id": "2c36c543-84fc-47ed-8e8c-c453723dca7e",
   "metadata": {},
   "source": [
    "Q13. To use the basic functions of pandas, what is the first and foremost necessary library that needs to\n",
    "be imported?\n",
    "A13. The first and foremost necessary library that needs to be imported to use the basic functions of pandas is the pandas library itself."
   ]
  }
 ],
 "metadata": {
  "kernelspec": {
   "display_name": "Python 3 (ipykernel)",
   "language": "python",
   "name": "python3"
  },
  "language_info": {
   "codemirror_mode": {
    "name": "ipython",
    "version": 3
   },
   "file_extension": ".py",
   "mimetype": "text/x-python",
   "name": "python",
   "nbconvert_exporter": "python",
   "pygments_lexer": "ipython3",
   "version": "3.10.8"
  }
 },
 "nbformat": 4,
 "nbformat_minor": 5
}
